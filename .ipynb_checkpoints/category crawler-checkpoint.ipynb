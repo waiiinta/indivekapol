{
 "cells": [
  {
   "cell_type": "code",
   "execution_count": 2,
   "metadata": {},
   "outputs": [],
   "source": [
    "from urllib.request import urlopen,Request \n",
    "from bs4 import BeautifulSoup \n",
    "import requests\n",
    "import re\n",
    "import time\n",
    "from pathlib import Path\n",
    "import sys\n",
    "import os"
   ]
  },
  {
   "cell_type": "code",
   "execution_count": 28,
   "metadata": {},
   "outputs": [
    {
     "name": "stdout",
     "output_type": "stream",
     "text": [
      "25868\n"
     ]
    }
   ],
   "source": [
    "file = open(\"./webcrawler/omictool_tools.txt\",\"r\")\n",
    "\n",
    "tool_list = set()\n",
    "for line in file:\n",
    "        tool_list.add(line.strip())\n",
    "print(len(tool_list))"
   ]
  },
  {
   "cell_type": "code",
   "execution_count": 40,
   "metadata": {},
   "outputs": [
    {
     "name": "stdout",
     "output_type": "stream",
     "text": [
      "Start crawl PMID\n",
      "Finsh Crawl PMID000\n"
     ]
    }
   ],
   "source": [
    "def get_tool():\n",
    "        try:\n",
    "                print(\"Start crawl PMID\")\n",
    "                category_dict = {}\n",
    "                analytical_dict = {}\n",
    "                x = 0\n",
    "                for tool in tool_list:\n",
    "                    state = tool\n",
    "                    omictool = \"https://omictools.com\"+tool.strip()\n",
    "                    response = requests.get(omictool)\n",
    "                    html = BeautifulSoup(response.text,\"html5lib\")\n",
    "                    \n",
    "                    parent_category = html.find('div',id='parent-category-container')\n",
    "                    if parent_category != None:\n",
    "                        list_of_category = parent_category.find('span').find_all('a',href=True)\n",
    "                        categories = []\n",
    "                        for category in list_of_category:\n",
    "                            category = category['href']\n",
    "                            if category[len(category)-8:len(category)] == 'category':\n",
    "                                if category[1:] not in category_dict:\n",
    "                                    category_dict[category[1:]] = []\n",
    "                                categories.append(category[1:])\n",
    "\n",
    "                    analytical_step = html.find('div',id='analytical-step-container')\n",
    "                    if analytical_step != None:\n",
    "                        list_of_analytical = analytical_step.find('span').find_all('a',href=True)\n",
    "                        analyticals = []\n",
    "                        for category in list_of_analytical:\n",
    "                            category = category['href']\n",
    "                            if category[len(category)-8:len(category)] == 'category':\n",
    "                                if category[1:] not in analytical_dict:\n",
    "                                    analytical_dict[category[1:]] = []\n",
    "                                analyticals.append(category[1:])\n",
    "\n",
    "                    if parent_category != None and analytical_step != None:\n",
    "                        article = html.find('div',class_='article-reference-infos')\n",
    "                        if article != None:\n",
    "                            list_of_pmid = article.find_all_next('div',class_='text',string=True)\n",
    "\n",
    "                            for pmid in list_of_pmid:\n",
    "                                if pmid.text.find(\"PMID\") != -1:\n",
    "                                    for category in categories:\n",
    "                                        category_dict[category].append(pmid.text.strip()[6:])\n",
    "                                    for analytical in analyticals:\n",
    "                                         analytical_dict[analytical].append(pmid.text.strip()[6:])\n",
    "                    x += 1\n",
    "                    print(\"Progress {0:.6f}\".format((x /len(tool_list) )*100), end=\"\\r\")\n",
    "                    time.sleep(0.001)\n",
    "                print(\"Finsh Crawl PMID\")\n",
    "                return category_dict,analytical_dict\n",
    "        except:\n",
    "                print(omictool)\n",
    "                raise\n",
    "\n",
    "category_dict,_analytical_dict = get_tool()\n",
    "\n",
    "\n",
    "\n",
    "\n",
    "\n",
    "\n",
    "\n",
    "\n"
   ]
  },
  {
   "cell_type": "code",
   "execution_count": 33,
   "metadata": {},
   "outputs": [],
   "source": [
    "os.mkdir('category')"
   ]
  },
  {
   "cell_type": "code",
   "execution_count": 41,
   "metadata": {},
   "outputs": [],
   "source": [
    "for category in category_dict:\n",
    "    w_file = open('./category/'+category+'.txt','a+')\n",
    "    for pmid in category_dict[category]:\n",
    "        w_file.write(pmid+'\\n')\n",
    "    w_file.close()"
   ]
  },
  {
   "cell_type": "code",
   "execution_count": 42,
   "metadata": {},
   "outputs": [],
   "source": [
    "os.mkdir('analytical')"
   ]
  },
  {
   "cell_type": "code",
   "execution_count": 45,
   "metadata": {},
   "outputs": [],
   "source": [
    "for analytical in _analytical_dict:\n",
    "    w_file = open('./analytical/'+analytical+'.txt','a+')\n",
    "    for pmid in _analytical_dict[analytical]:\n",
    "        w_file.write(pmid+'\\n')\n",
    "    w_file.close()"
   ]
  },
  {
   "cell_type": "code",
   "execution_count": 46,
   "metadata": {},
   "outputs": [
    {
     "name": "stdout",
     "output_type": "stream",
     "text": [
      "1591 133\n"
     ]
    }
   ],
   "source": [
    "print(len(_analytical_dict),len(category_dict))"
   ]
  },
  {
   "cell_type": "code",
   "execution_count": null,
   "metadata": {},
   "outputs": [],
   "source": []
  }
 ],
 "metadata": {
  "kernelspec": {
   "display_name": "Python 3",
   "language": "python",
   "name": "python3"
  },
  "language_info": {
   "codemirror_mode": {
    "name": "ipython",
    "version": 3
   },
   "file_extension": ".py",
   "mimetype": "text/x-python",
   "name": "python",
   "nbconvert_exporter": "python",
   "pygments_lexer": "ipython3",
   "version": "3.6.1"
  }
 },
 "nbformat": 4,
 "nbformat_minor": 2
}
